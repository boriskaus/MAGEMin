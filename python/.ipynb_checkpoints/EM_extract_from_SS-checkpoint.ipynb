{
 "cells": [
  {
   "cell_type": "code",
   "execution_count": 1,
   "metadata": {},
   "outputs": [],
   "source": [
    "import matplotlib.pyplot as plt\n",
    "import numpy as np\n",
    "import math  as math\n",
    "from   scipy.optimize import minimize\n",
    "from   sympy import *"
   ]
  },
  {
   "cell_type": "code",
   "execution_count": 7,
   "metadata": {
    "code_folding": [
     10,
     29
    ]
   },
   "outputs": [],
   "source": [
    "#first clean up the end-member file, remove first and last lines of the file\n",
    "path = './database_Igneous_H2018/tc-ds634.txt'\n",
    "gem = open(path,'r')\n",
    "\n",
    "#declare endmember structure, name + thermodynamic data\n",
    "em = {}\n",
    "new_content = [[] for x in range(4)] #create 2d array with 4 lines and unspecified column number\n",
    "\n",
    "#read thermocalc endmember file and fill endmember structure\n",
    "c=1;\n",
    "for line in gem:\n",
    "    words = line.split()\n",
    "    count = len(words)\n",
    "\n",
    "    if c == 1: #attribute endmember name to the dictionary\n",
    "        name0 = words[0]\n",
    "        content = np.asarray(words[1:count])   \n",
    "        new_content[0] = [float(i) for i in content]\n",
    "    elif c > 1 and c < 5: #attribute thermodynamic data to the endmember dictionary entry\n",
    "        content = np.asarray(words[0:count]) \n",
    "        new_content[c-1] = [float(i) for i in content]  \n",
    "\n",
    "    em[name0] = new_content[0:4]\n",
    "\n",
    "    c+=1\n",
    "    if c == 5:\n",
    "        c = 1\n",
    "        \n",
    "pp = {};       \n",
    "for name in em:\n",
    "    #Chemical composition\n",
    "    el_comp = np.zeros(19);\n",
    "    chem_comp = np.zeros(11);\n",
    "    \n",
    "    y  = 1;\n",
    "    l = len(em[name][0])-1;\n",
    "\n",
    "    while y < l:\n",
    "        el_comp[int(em[name][0][y])-1] = em[name][0][y+1];\n",
    "        y = y + 2;\n",
    "\n",
    "    #Normalization of endmember composition\n",
    "    chem_comp = [el_comp[0], el_comp[2]/2, el_comp[6], el_comp[4], el_comp[3], el_comp[8]/2,el_comp[7]/2, el_comp[1],el_comp[9], el_comp[18]/2,el_comp[10]/2];\n",
    "\n",
    "    if 2*chem_comp[0] + 3*chem_comp[1] + chem_comp[2] + chem_comp[3] + chem_comp[4] + chem_comp[5] +  chem_comp[6] + 2*chem_comp[7] + 3*chem_comp[9]+ chem_comp[10] != el_comp[8]:\n",
    "        chem_comp[8] =  chem_comp[8] - (2*chem_comp[0] + 3*chem_comp[1] + chem_comp[2] + chem_comp[3] + chem_comp[4] + chem_comp[5] +  chem_comp[6] + 2*chem_comp[7] + 3*chem_comp[9]+ chem_comp[10]);\n",
    "        \n",
    "    pp[name] = chem_comp"
   ]
  },
  {
   "cell_type": "code",
   "execution_count": 8,
   "metadata": {},
   "outputs": [
    {
     "name": "stdout",
     "output_type": "stream",
     "text": [
      "[1, 2, 3, 19, 4, 5, 7, 8, 9, 10, 11]\n"
     ]
    }
   ],
   "source": [
    "pp = []   \n",
    "for i in em:\n",
    "    pp.append(i) \n",
    "    \n",
    "# Si 1\n",
    "# Ti 2\n",
    "# Al 3\n",
    "# Cr 19\n",
    "# Fe 4\n",
    "# Mg 5\n",
    "# Ca 7\n",
    "# Na 8\n",
    "# K 9\n",
    "# O 10\n",
    "# H 11\n",
    "\n",
    "ox   = [1,2,3,19,4,5,7,8,9,10,11]\n",
    "noDB = []\n",
    "for i in em:\n",
    "#     print(em[i][0])\n",
    "    for x in range(1, len(em[i][0])-1, 2):\n",
    "        if em[i][0][x] not in ox:\n",
    "            noDB.append(i)\n",
    "            \n",
    "print(ox)"
   ]
  },
  {
   "cell_type": "code",
   "execution_count": 9,
   "metadata": {
    "code_folding": []
   },
   "outputs": [],
   "source": [
    "# open solid solution file\n",
    "path = './database_Igneous_H2018/tc-ig50NCKFMASHTOCr.txt'\n",
    "gss = open(path,'r')\n",
    "ph_list = ['liq', 'fl', 'pli', 'plc', 'ol', 'ksp', 'mu', 'bi', 'g', 'ep', 'cd', 'opx', 'cpx', 'spn', 'hb', 'ilm','']\n",
    "#declare solid-solution structure\n",
    "ph_em = {};\n",
    "\n",
    "#read thermocalc solid solution file\n",
    "ss = 0;\n",
    "ls = 0\n",
    "for line in gss:\n",
    "    words = line.split()\n",
    "    count = len(words)\n",
    "    \n",
    "    if count > 0:\n",
    "        if words[0] == ph_list[ss]:\n",
    "            nam = words[0];\n",
    "            ph_em[nam] = [];\n",
    "            ss += 1\n",
    "            ls = 0\n",
    "            \n",
    "        if words[0][0:2] == 'p(':\n",
    "            ph_em[nam].append(words[0][2:-1])\n",
    "            \n",
    "        if words[0] == 'make':\n",
    "            for i in words:\n",
    "                if i in pp:\n",
    "                    ph_em[nam].append(i)\n",
    "\n",
    "            ls += 1\n",
    "                    \n",
    "            \n",
    "    if ss == len(ph_list):\n",
    "        break"
   ]
  },
  {
   "cell_type": "code",
   "execution_count": 10,
   "metadata": {},
   "outputs": [
    {
     "name": "stdout",
     "output_type": "stream",
     "text": [
      "['q4L', 'sl1L', 'wo1L', 'fo2L', 'fa2L', 'jdL', 'hmL', 'ekL', 'tiL', 'kjL', 'ctL', 'h2o1L', 'qL', 'silL', 'woL', 'foL', 'faL', 'abL', 'qL', 'hemL', 'eskL', 'ruL', 'kspL', 'qL', 'woL', 'silL', 'qL', 'h2oL', 'qfL', 'slfL', 'wofL', 'fofL', 'fafL', 'jdfL', 'hmfL', 'ekfL', 'tifL', 'kjfL', 'H2O', 'qL', 'silL', 'woL', 'foL', 'faL', 'abL', 'qL', 'hemL', 'eskL', 'ruL', 'kspL', 'qL', 'abhI', 'an', 'san', 'abh', 'abh', 'anC', 'san', 'an', 'mont', 'fa', 'fo', 'cfm', 'fa', 'fo', 'san', 'abh', 'anC', 'an', 'mu', 'cel', 'fcel', 'pa', 'mam', 'fmu', 'ma', 'andr', 'gr', 'mu', 'phl', 'annm', 'obi', 'east', 'tbi', 'fbi', 'ann', 'ann', 'phl', 'br', 'phl', 'ru', 'andr', 'east', 'gr', 'py', 'alm', 'gr', 'andr', 'knom', 'tig', 'knor', 'py', 'per', 'ru', 'cor', 'cz', 'ep', 'fep', 'crd', 'fcrd', 'hcrd', 'en', 'fs', 'fm', 'odi', 'mgts', 'cren', 'obuf', 'mess', 'ojd', 'en', 'fs', 'di', 'mgts', 'kos', 'jd', 'mgts', 'per', 'ru', 'cor', 'mgts', 'acm', 'jd', 'jd', 'di', 'cfs', 'cats', 'crdi', 'cess', 'cbuf', 'jd', 'cen', 'cfm', 'kjd', 'fs', 'cats', 'kos', 'jd', 'cats', 'acm', 'jd', 'cats', 'per', 'ru', 'cor', 'en', 'en', 'fs', 'jd', 'abh', 'san', 'nsp', 'isp', 'nhc', 'ihc', 'nmt', 'imt', 'pcr', 'qndm', 'sp', 'sp', 'herc', 'herc', 'mt', 'mt', 'picr', 'qnd', 'tr', 'tsm', 'prgm', 'glm', 'cumm', 'grnm', 'a', 'b', 'mrb', 'kprg', 'tts', 'ts', 'parg', 'gl', 'grun', 'cumm', 'grun', 'cumm', 'grun', 'gl', 'gr', 'andr', 'mu', 'pa', 'parg', 'dsp', 'ru', 'ts', 'oilm', 'dilm', 'dhem', 'ilm', 'ilm', 'hem']\n",
      "211\n",
      "\n"
     ]
    }
   ],
   "source": [
    "em_in_ss = []\n",
    "for i in ph_em:\n",
    "    for j in ph_em[i]:\n",
    "        em_in_ss.append(j)\n",
    "        \n",
    "print((em_in_ss))\n",
    "print(len(em_in_ss))\n",
    "print('')\n",
    "# print(sorted(pp))"
   ]
  },
  {
   "cell_type": "code",
   "execution_count": 11,
   "metadata": {},
   "outputs": [
    {
     "name": "stdout",
     "output_type": "stream",
     "text": [
      "['H2O', 'lrn', 'chum', 'chdr', 'mwd', 'fwd', 'mrw', 'frw', 'mpv', 'fpv', 'apv', 'npv', 'ppv', 'cpv', 'mak', 'fak', 'maj', 'nagt', 'ski', 'uv', 'osma', 'osmm', 'osfa', 'vsv', 'and', 'ky', 'sill', 'smul', 'amul', 'tpz', 'mst', 'fst', 'mctd', 'fctd', 'merw', 'zo', 'law', 'mpm', 'fpm', 'jgd', 'geh', 'ak', 'rnk', 'phA', 'phD', 'phE', 'shB', 'sph', 'cstn', 'tcn', 'pren', 'hen', 'hfs', 'hed', 'caes', 'wo', 'pswo', 'wal', 'fact', 'fgl', 'nyb', 'rieb', 'anth', 'fanth', 'ged', 'spr4', 'spr5', 'fspr', 'mcar', 'fcar', 'deer', 'naph', 'tan', 'clin', 'ames', 'afchl', 'daph', 'sud', 'fsud', 'prl', 'ta', 'fta', 'tats', 'tap', 'nta', 'minn', 'minm', 'kao', 'pre', 'fpre', 'chr', 'liz', 'glt', 'fstp', 'mstp', 'atg', 'ab', 'mic', 'kcm', 'wa', 'hol', 'q', 'trd', 'crst', 'coe', 'stv', 'ne', 'cg', 'cgh', 'macf', 'mscf', 'fscf', 'nacf', 'cacf', 'manal', 'nanal', 'msnal', 'fsnal', 'canal', 'kls', 'lc', 'wrk', 'lmt', 'heu', 'stlb', 'anl', 'lime', 'fper', 'wu', 'mcor', 'esk', 'geik', 'mft', 'usp', 'gth', 'iron']\n",
      "136\n"
     ]
    }
   ],
   "source": [
    "gas  = ['O2', 'H2']\n",
    "aqSp = ['AlOH3', 'KOH', 'aqSi']\n",
    "liq  = ['perL', 'limL', 'corL', 'enL', 'diL', 'anL', 'neL', 'lcL']\n",
    "#i not in em_in_ss and\n",
    "final_em = ['H2O']\n",
    "for i in pp:\n",
    "    if  i not in noDB and i not in gas and i not in aqSp and i not in liq and i not in em_in_ss:\n",
    "        final_em.append(i)\n",
    "        \n",
    "print(final_em)\n",
    "print(len(final_em))"
   ]
  },
  {
   "cell_type": "code",
   "execution_count": null,
   "metadata": {},
   "outputs": [],
   "source": []
  }
 ],
 "metadata": {
  "celltoolbar": "Tags",
  "kernelspec": {
   "display_name": "Python 3",
   "language": "python",
   "name": "python3"
  },
  "language_info": {
   "codemirror_mode": {
    "name": "ipython",
    "version": 3
   },
   "file_extension": ".py",
   "mimetype": "text/x-python",
   "name": "python",
   "nbconvert_exporter": "python",
   "pygments_lexer": "ipython3",
   "version": "3.6.9"
  },
  "varInspector": {
   "cols": {
    "lenName": 16,
    "lenType": 16,
    "lenVar": 40
   },
   "kernels_config": {
    "python": {
     "delete_cmd_postfix": "",
     "delete_cmd_prefix": "del ",
     "library": "var_list.py",
     "varRefreshCmd": "print(var_dic_list())"
    },
    "r": {
     "delete_cmd_postfix": ") ",
     "delete_cmd_prefix": "rm(",
     "library": "var_list.r",
     "varRefreshCmd": "cat(var_dic_list()) "
    }
   },
   "types_to_exclude": [
    "module",
    "function",
    "builtin_function_or_method",
    "instance",
    "_Feature"
   ],
   "window_display": false
  }
 },
 "nbformat": 4,
 "nbformat_minor": 2
}
